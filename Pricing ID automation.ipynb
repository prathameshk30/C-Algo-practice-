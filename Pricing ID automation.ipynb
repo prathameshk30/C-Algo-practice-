{
 "cells": [
  {
   "cell_type": "code",
   "execution_count": 180,
   "metadata": {},
   "outputs": [],
   "source": [
    "# importing the libraries\n",
    "import os\n",
    "import time\n",
    "from selenium import webdriver\n",
    "from selenium.webdriver.common.by import By\n",
    "from selenium.webdriver.common.keys import Keys\n",
    "from selenium.webdriver import ActionChains\n",
    "from selenium.webdriver.support import expected_conditions as EC\n",
    "import regex as re\n",
    "import numpy as np\n",
    "import pandas as pd\n",
    "from tqdm import tqdm\n",
    "import pickle"
   ]
  },
  {
   "cell_type": "code",
   "execution_count": 206,
   "metadata": {},
   "outputs": [],
   "source": [
    "path=r'C:\\Users\\pkulkarni\\OneDrive - Brunswick Corporation\\Desktop\\Python workflow\\NADA pricing'"
   ]
  },
  {
   "cell_type": "code",
   "execution_count": 181,
   "metadata": {},
   "outputs": [],
   "source": [
    "options=webdriver.ChromeOptions()\n",
    "options.add_experimental_option('excludeSwitches', ['enable-logging'])\n",
    "driver=webdriver.Chrome(options=options)\n",
    "\n",
    "def give_input(xpath: str, value: int | str):\n",
    "    driver.find_element(\"xpath\", xpath).clear()\n",
    "    driver.find_element(\"xpath\", xpath).send_keys(value)\n",
    "    time.sleep(3)\n",
    "\n",
    "def click_item(xpath: str):\n",
    "    driver.find_element('xpath', xpath).click()\n",
    "\n",
    "def find_price_id(url):\n",
    "    return re.findall('[0-9]+', str(url))[0]"
   ]
  },
  {
   "cell_type": "markdown",
   "metadata": {},
   "source": [
    "### Scraping Power Boat information from NADA"
   ]
  },
  {
   "cell_type": "code",
   "execution_count": 379,
   "metadata": {},
   "outputs": [],
   "source": [
    "options=webdriver.ChromeOptions()\n",
    "options.add_experimental_option('excludeSwitches', ['enable-logging'])\n",
    "driver=webdriver.Chrome(options=options)\n",
    "# get url\n",
    "driver.get(url='https://www.jdpowerconnect.com')\n",
    "driver.maximize_window()\n",
    "# login info\n",
    "give_input('/html/body/div[1]/div/div/div[2]/div/div/form/div[2]/div/input', 'max.kimmerle@boateka.com')\n",
    "give_input('/html/body/div[1]/div/div/div[2]/div/div/form/div[3]/div[1]/input', 'Boateka1$2023')\n",
    "# click on log in \n",
    "click_item('//*[@id=\"content-body\"]/div/div/form/div[5]/div[1]/button')\n",
    "# click on boats icon\n",
    "click_item('//*[@id=\"navbar\"]/ul/li[2]/a')\n",
    "# select Power Boats\n",
    "click_item('/html/body/div[1]/div/div/div[2]/form/div[2]/div/div[1]')\n",
    "\n",
    "# iterate over the manufacturer list\n",
    "df=pd.read_csv(r\"C:\\Users\\pkulkarni\\OneDrive - Brunswick Corporation\\Desktop\\Python workflow\\NADA pricing\\FMS Master Mapping.csv\")\n",
    "manufacturer_list=df['Manufacturer'].tolist()"
   ]
  },
  {
   "cell_type": "code",
   "execution_count": 193,
   "metadata": {},
   "outputs": [],
   "source": [
    "url_list=[]"
   ]
  },
  {
   "cell_type": "code",
   "execution_count": 194,
   "metadata": {},
   "outputs": [
    {
     "name": "stderr",
     "output_type": "stream",
     "text": [
      "100%|██████████| 41/41 [28:24<00:00, 41.58s/it]\n"
     ]
    }
   ],
   "source": [
    "counter=0\n",
    "for manufacturer in tqdm(manufacturer_list):\n",
    "    give_input('/html/body/div[1]/div/div/div[2]/form/div[6]/div[1]/input', str(manufacturer))\n",
    "    click_item('/html/body/div[1]/div/div/div[2]/div[2]/div/div/div[1]/a')\n",
    "    #Select the year\n",
    "    for year in range(1,12):\n",
    "        try:\n",
    "            click_item('/html/body/div[1]/div/div/div[2]/form/div[1]/button'+str([year]))\n",
    "            time.sleep(2)\n",
    "            urls= driver.find_elements(\"xpath\", '/html/body/div[1]/div/div/div[2]/div[4]/div/table/tbody/tr[*]/td[1]/a')\n",
    "            for url in urls:\n",
    "                counter+=1\n",
    "                dict_obj={}\n",
    "                dict_obj['ID']=counter\n",
    "                dict_obj['Model']=str(url.text)\n",
    "                dict_obj['manufacturer']=manufacturer\n",
    "                dict_obj['Year']=driver.find_element(\"xpath\", '/html/body/div[1]/div/div/div[2]/form/div[1]/button'+str([year])).text\n",
    "                dict_obj['Price_id']=str(url.get_attribute(\"href\"))\n",
    "                url_list.append(dict_obj)\n",
    "        except:\n",
    "            continue\n",
    "    click_item('/html/body/div[1]/div/div/div[2]/ol/li[2]/a')"
   ]
  },
  {
   "cell_type": "code",
   "execution_count": 244,
   "metadata": {},
   "outputs": [
    {
     "data": {
      "text/plain": [
       "21218"
      ]
     },
     "execution_count": 244,
     "metadata": {},
     "output_type": "execute_result"
    }
   ],
   "source": [
    "len(url_list)"
   ]
  },
  {
   "cell_type": "code",
   "execution_count": 245,
   "metadata": {},
   "outputs": [
    {
     "data": {
      "text/html": [
       "<div>\n",
       "<style scoped>\n",
       "    .dataframe tbody tr th:only-of-type {\n",
       "        vertical-align: middle;\n",
       "    }\n",
       "\n",
       "    .dataframe tbody tr th {\n",
       "        vertical-align: top;\n",
       "    }\n",
       "\n",
       "    .dataframe thead th {\n",
       "        text-align: right;\n",
       "    }\n",
       "</style>\n",
       "<table border=\"1\" class=\"dataframe\">\n",
       "  <thead>\n",
       "    <tr style=\"text-align: right;\">\n",
       "      <th></th>\n",
       "      <th>Model</th>\n",
       "      <th>manufacturer</th>\n",
       "      <th>Year</th>\n",
       "      <th>URL links</th>\n",
       "      <th>Price ID</th>\n",
       "      <th>Unique ID</th>\n",
       "    </tr>\n",
       "    <tr>\n",
       "      <th>ID</th>\n",
       "      <th></th>\n",
       "      <th></th>\n",
       "      <th></th>\n",
       "      <th></th>\n",
       "      <th></th>\n",
       "      <th></th>\n",
       "    </tr>\n",
       "  </thead>\n",
       "  <tbody>\n",
       "    <tr>\n",
       "      <th>1</th>\n",
       "      <td>21 SSI SKI &amp; FISH(**)</td>\n",
       "      <td>Chaparral</td>\n",
       "      <td>2024</td>\n",
       "      <td>https://www.jdpowerconnect.com/Boats/32151814/...</td>\n",
       "      <td>32151814</td>\n",
       "      <td>2024-Chaparral-21 SSI SKI &amp; FISH(**)</td>\n",
       "    </tr>\n",
       "    <tr>\n",
       "      <th>2</th>\n",
       "      <td>21 SSI SKI &amp; FISH(***)</td>\n",
       "      <td>Chaparral</td>\n",
       "      <td>2024</td>\n",
       "      <td>https://www.jdpowerconnect.com/Boats/32151813/...</td>\n",
       "      <td>32151813</td>\n",
       "      <td>2024-Chaparral-21 SSI SKI &amp; FISH(***)</td>\n",
       "    </tr>\n",
       "    <tr>\n",
       "      <th>3</th>\n",
       "      <td>21 SSI(**)</td>\n",
       "      <td>Chaparral</td>\n",
       "      <td>2024</td>\n",
       "      <td>https://www.jdpowerconnect.com/Boats/32151815/...</td>\n",
       "      <td>32151815</td>\n",
       "      <td>2024-Chaparral-21 SSI(**)</td>\n",
       "    </tr>\n",
       "    <tr>\n",
       "      <th>4</th>\n",
       "      <td>21 SURF(**)</td>\n",
       "      <td>Chaparral</td>\n",
       "      <td>2024</td>\n",
       "      <td>https://www.jdpowerconnect.com/Boats/32151839/...</td>\n",
       "      <td>32151839</td>\n",
       "      <td>2024-Chaparral-21 SURF(**)</td>\n",
       "    </tr>\n",
       "    <tr>\n",
       "      <th>5</th>\n",
       "      <td>21 SSI(***)</td>\n",
       "      <td>Chaparral</td>\n",
       "      <td>2024</td>\n",
       "      <td>https://www.jdpowerconnect.com/Boats/32151816/...</td>\n",
       "      <td>32151816</td>\n",
       "      <td>2024-Chaparral-21 SSI(***)</td>\n",
       "    </tr>\n",
       "  </tbody>\n",
       "</table>\n",
       "</div>"
      ],
      "text/plain": [
       "                     Model manufacturer  Year  \\\n",
       "ID                                              \n",
       "1    21 SSI SKI & FISH(**)    Chaparral  2024   \n",
       "2   21 SSI SKI & FISH(***)    Chaparral  2024   \n",
       "3               21 SSI(**)    Chaparral  2024   \n",
       "4              21 SURF(**)    Chaparral  2024   \n",
       "5              21 SSI(***)    Chaparral  2024   \n",
       "\n",
       "                                            URL links  Price ID  \\\n",
       "ID                                                                \n",
       "1   https://www.jdpowerconnect.com/Boats/32151814/...  32151814   \n",
       "2   https://www.jdpowerconnect.com/Boats/32151813/...  32151813   \n",
       "3   https://www.jdpowerconnect.com/Boats/32151815/...  32151815   \n",
       "4   https://www.jdpowerconnect.com/Boats/32151839/...  32151839   \n",
       "5   https://www.jdpowerconnect.com/Boats/32151816/...  32151816   \n",
       "\n",
       "                                Unique ID  \n",
       "ID                                         \n",
       "1    2024-Chaparral-21 SSI SKI & FISH(**)  \n",
       "2   2024-Chaparral-21 SSI SKI & FISH(***)  \n",
       "3               2024-Chaparral-21 SSI(**)  \n",
       "4              2024-Chaparral-21 SURF(**)  \n",
       "5              2024-Chaparral-21 SSI(***)  "
      ]
     },
     "execution_count": 245,
     "metadata": {},
     "output_type": "execute_result"
    }
   ],
   "source": [
    "df_NADA_Price_ID=pd.DataFrame.from_dict(url_list, orient='columns')\n",
    "df_NADA_Price_ID.set_index('ID', drop=True, inplace=True)\n",
    "df_NADA_Price_ID['URL links']=df_NADA_Price_ID['Price_id']\n",
    "df_NADA_Price_ID=df_NADA_Price_ID.drop(columns=['Price_id'])\n",
    "df_NADA_Price_ID['Price ID']=df_NADA_Price_ID['URL links'].apply(find_price_id)\n",
    "df_NADA_Price_ID['Unique ID']=df_NADA_Price_ID['Year']+str('-')+df_NADA_Price_ID['manufacturer']+str('-')+df_NADA_Price_ID['Model']\n",
    "df_NADA_Price_ID.head(5)"
   ]
  },
  {
   "cell_type": "code",
   "execution_count": 247,
   "metadata": {},
   "outputs": [
    {
     "name": "stderr",
     "output_type": "stream",
     "text": [
      "<>:1: SyntaxWarning: invalid escape sequence '\\P'\n",
      "<>:1: SyntaxWarning: invalid escape sequence '\\P'\n",
      "C:\\Users\\pkulkarni\\AppData\\Local\\Temp\\ipykernel_37476\\2495273030.py:1: SyntaxWarning: invalid escape sequence '\\P'\n",
      "  df_NADA_Price_ID.to_csv(path+'\\Price_ID.csv')\n"
     ]
    }
   ],
   "source": [
    "df_NADA_Price_ID.to_csv(path+'\\Price_ID.csv')"
   ]
  },
  {
   "cell_type": "code",
   "execution_count": 248,
   "metadata": {},
   "outputs": [],
   "source": [
    "href_list=df_NADA_Price_ID['URL links'].to_list()"
   ]
  },
  {
   "cell_type": "code",
   "execution_count": 261,
   "metadata": {},
   "outputs": [],
   "source": [
    "main_info=[]"
   ]
  },
  {
   "cell_type": "code",
   "execution_count": 444,
   "metadata": {},
   "outputs": [
    {
     "name": "stderr",
     "output_type": "stream",
     "text": [
      "<>:1: SyntaxWarning: invalid escape sequence '\\P'\n",
      "<>:1: SyntaxWarning: invalid escape sequence '\\P'\n",
      "C:\\Users\\pkulkarni\\AppData\\Local\\Temp\\ipykernel_37476\\1748811587.py:1: SyntaxWarning: invalid escape sequence '\\P'\n",
      "  df=pd.read_csv(path+'\\Price_ID_Bayliner.csv')\n"
     ]
    }
   ],
   "source": [
    "df=pd.read_csv(path+'\\Price_ID_Bayliner.csv')\n",
    "href_list=df['URL links'].to_list()"
   ]
  },
  {
   "cell_type": "code",
   "execution_count": 457,
   "metadata": {},
   "outputs": [
    {
     "name": "stderr",
     "output_type": "stream",
     "text": [
      "  0%|          | 0/196 [00:00<?, ?it/s]\n"
     ]
    },
    {
     "ename": "NoSuchElementException",
     "evalue": "Message: no such element: Unable to locate element: {\"method\":\"xpath\",\"selector\":\"/html/body/div[1]/div/div/div[2]/form/div[*]/div/button\"}\n  (Session info: chrome=118.0.5993.118); For documentation on this error, please visit: https://www.selenium.dev/documentation/webdriver/troubleshooting/errors#no-such-element-exception\nStacktrace:\n\tGetHandleVerifier [0x00007FF6A70C8EF2+54786]\n\t(No symbol) [0x00007FF6A7035612]\n\t(No symbol) [0x00007FF6A6EEA64B]\n\t(No symbol) [0x00007FF6A6F2B79C]\n\t(No symbol) [0x00007FF6A6F2B91C]\n\t(No symbol) [0x00007FF6A6F66D87]\n\t(No symbol) [0x00007FF6A6F4BEAF]\n\t(No symbol) [0x00007FF6A6F64D02]\n\t(No symbol) [0x00007FF6A6F4BC43]\n\t(No symbol) [0x00007FF6A6F20941]\n\t(No symbol) [0x00007FF6A6F21B84]\n\tGetHandleVerifier [0x00007FF6A7417F52+3524194]\n\tGetHandleVerifier [0x00007FF6A746D800+3874576]\n\tGetHandleVerifier [0x00007FF6A7465D7F+3843215]\n\tGetHandleVerifier [0x00007FF6A7165086+694166]\n\t(No symbol) [0x00007FF6A7040A88]\n\t(No symbol) [0x00007FF6A703CA94]\n\t(No symbol) [0x00007FF6A703CBC2]\n\t(No symbol) [0x00007FF6A702CC83]\n\tBaseThreadInitThunk [0x00007FFD58F37344+20]\n\tRtlUserThreadStart [0x00007FFD5AF026B1+33]\n",
     "output_type": "error",
     "traceback": [
      "\u001b[1;31m---------------------------------------------------------------------------\u001b[0m",
      "\u001b[1;31mNoSuchElementException\u001b[0m                    Traceback (most recent call last)",
      "\u001b[1;32mc:\\Users\\pkulkarni\\OneDrive - Brunswick Corporation\\Desktop\\Python workflow\\NADA pricing\\Pricing ID automation.ipynb Cell 14\u001b[0m line \u001b[0;36m2\n\u001b[0;32m     <a href='vscode-notebook-cell:/c%3A/Users/pkulkarni/OneDrive%20-%20Brunswick%20Corporation/Desktop/Python%20workflow/NADA%20pricing/Pricing%20ID%20automation.ipynb#X31sZmlsZQ%3D%3D?line=22'>23</a>\u001b[0m \u001b[39mfor\u001b[39;00m index, label \u001b[39min\u001b[39;00m \u001b[39menumerate\u001b[39m(column_header):\n\u001b[0;32m     <a href='vscode-notebook-cell:/c%3A/Users/pkulkarni/OneDrive%20-%20Brunswick%20Corporation/Desktop/Python%20workflow/NADA%20pricing/Pricing%20ID%20automation.ipynb#X31sZmlsZQ%3D%3D?line=23'>24</a>\u001b[0m     dict_obj[label]\u001b[39m=\u001b[39mcolumn_info[index]\n\u001b[1;32m---> <a href='vscode-notebook-cell:/c%3A/Users/pkulkarni/OneDrive%20-%20Brunswick%20Corporation/Desktop/Python%20workflow/NADA%20pricing/Pricing%20ID%20automation.ipynb#X31sZmlsZQ%3D%3D?line=24'>25</a>\u001b[0m click_item(\u001b[39m'\u001b[39;49m\u001b[39m/html/body/div[1]/div/div/div[2]/form/div[*]/div/button\u001b[39;49m\u001b[39m'\u001b[39;49m)\n\u001b[0;32m     <a href='vscode-notebook-cell:/c%3A/Users/pkulkarni/OneDrive%20-%20Brunswick%20Corporation/Desktop/Python%20workflow/NADA%20pricing/Pricing%20ID%20automation.ipynb#X31sZmlsZQ%3D%3D?line=25'>26</a>\u001b[0m price_header\u001b[39m=\u001b[39m[]\n\u001b[0;32m     <a href='vscode-notebook-cell:/c%3A/Users/pkulkarni/OneDrive%20-%20Brunswick%20Corporation/Desktop/Python%20workflow/NADA%20pricing/Pricing%20ID%20automation.ipynb#X31sZmlsZQ%3D%3D?line=26'>27</a>\u001b[0m \u001b[39mfor\u001b[39;00m element \u001b[39min\u001b[39;00m \u001b[39mrange\u001b[39m(\u001b[39m2\u001b[39m,\u001b[39m5\u001b[39m):\n",
      "\u001b[1;32mc:\\Users\\pkulkarni\\OneDrive - Brunswick Corporation\\Desktop\\Python workflow\\NADA pricing\\Pricing ID automation.ipynb Cell 14\u001b[0m line \u001b[0;36m1\n\u001b[0;32m     <a href='vscode-notebook-cell:/c%3A/Users/pkulkarni/OneDrive%20-%20Brunswick%20Corporation/Desktop/Python%20workflow/NADA%20pricing/Pricing%20ID%20automation.ipynb#X31sZmlsZQ%3D%3D?line=9'>10</a>\u001b[0m \u001b[39mdef\u001b[39;00m \u001b[39mclick_item\u001b[39m(xpath: \u001b[39mstr\u001b[39m):\n\u001b[1;32m---> <a href='vscode-notebook-cell:/c%3A/Users/pkulkarni/OneDrive%20-%20Brunswick%20Corporation/Desktop/Python%20workflow/NADA%20pricing/Pricing%20ID%20automation.ipynb#X31sZmlsZQ%3D%3D?line=10'>11</a>\u001b[0m     driver\u001b[39m.\u001b[39;49mfind_element(\u001b[39m'\u001b[39;49m\u001b[39mxpath\u001b[39;49m\u001b[39m'\u001b[39;49m, xpath)\u001b[39m.\u001b[39mclick()\n",
      "File \u001b[1;32mc:\\Users\\pkulkarni\\AppData\\Local\\Programs\\Python\\Python312\\Lib\\site-packages\\selenium\\webdriver\\remote\\webdriver.py:738\u001b[0m, in \u001b[0;36mWebDriver.find_element\u001b[1;34m(self, by, value)\u001b[0m\n\u001b[0;32m    735\u001b[0m     by \u001b[39m=\u001b[39m By\u001b[39m.\u001b[39mCSS_SELECTOR\n\u001b[0;32m    736\u001b[0m     value \u001b[39m=\u001b[39m \u001b[39mf\u001b[39m\u001b[39m'\u001b[39m\u001b[39m[name=\u001b[39m\u001b[39m\"\u001b[39m\u001b[39m{\u001b[39;00mvalue\u001b[39m}\u001b[39;00m\u001b[39m\"\u001b[39m\u001b[39m]\u001b[39m\u001b[39m'\u001b[39m\n\u001b[1;32m--> 738\u001b[0m \u001b[39mreturn\u001b[39;00m \u001b[39mself\u001b[39;49m\u001b[39m.\u001b[39;49mexecute(Command\u001b[39m.\u001b[39;49mFIND_ELEMENT, {\u001b[39m\"\u001b[39;49m\u001b[39musing\u001b[39;49m\u001b[39m\"\u001b[39;49m: by, \u001b[39m\"\u001b[39;49m\u001b[39mvalue\u001b[39;49m\u001b[39m\"\u001b[39;49m: value})[\u001b[39m\"\u001b[39m\u001b[39mvalue\u001b[39m\u001b[39m\"\u001b[39m]\n",
      "File \u001b[1;32mc:\\Users\\pkulkarni\\AppData\\Local\\Programs\\Python\\Python312\\Lib\\site-packages\\selenium\\webdriver\\remote\\webdriver.py:344\u001b[0m, in \u001b[0;36mWebDriver.execute\u001b[1;34m(self, driver_command, params)\u001b[0m\n\u001b[0;32m    342\u001b[0m response \u001b[39m=\u001b[39m \u001b[39mself\u001b[39m\u001b[39m.\u001b[39mcommand_executor\u001b[39m.\u001b[39mexecute(driver_command, params)\n\u001b[0;32m    343\u001b[0m \u001b[39mif\u001b[39;00m response:\n\u001b[1;32m--> 344\u001b[0m     \u001b[39mself\u001b[39;49m\u001b[39m.\u001b[39;49merror_handler\u001b[39m.\u001b[39;49mcheck_response(response)\n\u001b[0;32m    345\u001b[0m     response[\u001b[39m\"\u001b[39m\u001b[39mvalue\u001b[39m\u001b[39m\"\u001b[39m] \u001b[39m=\u001b[39m \u001b[39mself\u001b[39m\u001b[39m.\u001b[39m_unwrap_value(response\u001b[39m.\u001b[39mget(\u001b[39m\"\u001b[39m\u001b[39mvalue\u001b[39m\u001b[39m\"\u001b[39m, \u001b[39mNone\u001b[39;00m))\n\u001b[0;32m    346\u001b[0m     \u001b[39mreturn\u001b[39;00m response\n",
      "File \u001b[1;32mc:\\Users\\pkulkarni\\AppData\\Local\\Programs\\Python\\Python312\\Lib\\site-packages\\selenium\\webdriver\\remote\\errorhandler.py:229\u001b[0m, in \u001b[0;36mErrorHandler.check_response\u001b[1;34m(self, response)\u001b[0m\n\u001b[0;32m    227\u001b[0m         alert_text \u001b[39m=\u001b[39m value[\u001b[39m\"\u001b[39m\u001b[39malert\u001b[39m\u001b[39m\"\u001b[39m]\u001b[39m.\u001b[39mget(\u001b[39m\"\u001b[39m\u001b[39mtext\u001b[39m\u001b[39m\"\u001b[39m)\n\u001b[0;32m    228\u001b[0m     \u001b[39mraise\u001b[39;00m exception_class(message, screen, stacktrace, alert_text)  \u001b[39m# type: ignore[call-arg]  # mypy is not smart enough here\u001b[39;00m\n\u001b[1;32m--> 229\u001b[0m \u001b[39mraise\u001b[39;00m exception_class(message, screen, stacktrace)\n",
      "\u001b[1;31mNoSuchElementException\u001b[0m: Message: no such element: Unable to locate element: {\"method\":\"xpath\",\"selector\":\"/html/body/div[1]/div/div/div[2]/form/div[*]/div/button\"}\n  (Session info: chrome=118.0.5993.118); For documentation on this error, please visit: https://www.selenium.dev/documentation/webdriver/troubleshooting/errors#no-such-element-exception\nStacktrace:\n\tGetHandleVerifier [0x00007FF6A70C8EF2+54786]\n\t(No symbol) [0x00007FF6A7035612]\n\t(No symbol) [0x00007FF6A6EEA64B]\n\t(No symbol) [0x00007FF6A6F2B79C]\n\t(No symbol) [0x00007FF6A6F2B91C]\n\t(No symbol) [0x00007FF6A6F66D87]\n\t(No symbol) [0x00007FF6A6F4BEAF]\n\t(No symbol) [0x00007FF6A6F64D02]\n\t(No symbol) [0x00007FF6A6F4BC43]\n\t(No symbol) [0x00007FF6A6F20941]\n\t(No symbol) [0x00007FF6A6F21B84]\n\tGetHandleVerifier [0x00007FF6A7417F52+3524194]\n\tGetHandleVerifier [0x00007FF6A746D800+3874576]\n\tGetHandleVerifier [0x00007FF6A7465D7F+3843215]\n\tGetHandleVerifier [0x00007FF6A7165086+694166]\n\t(No symbol) [0x00007FF6A7040A88]\n\t(No symbol) [0x00007FF6A703CA94]\n\t(No symbol) [0x00007FF6A703CBC2]\n\t(No symbol) [0x00007FF6A702CC83]\n\tBaseThreadInitThunk [0x00007FFD58F37344+20]\n\tRtlUserThreadStart [0x00007FFD5AF026B1+33]\n"
     ]
    }
   ],
   "source": [
    "options=webdriver.ChromeOptions()\n",
    "options.add_experimental_option('excludeSwitches', ['enable-logging'])\n",
    "driver=webdriver.Chrome(options=options)\n",
    "driver.get(url='https://www.jdpowerconnect.com')\n",
    "driver.maximize_window()\n",
    "# login info\n",
    "give_input('/html/body/div[1]/div/div/div[2]/div/div/form/div[2]/div/input', 'max.kimmerle@boateka.com')\n",
    "give_input('/html/body/div[1]/div/div/div[2]/div/div/form/div[3]/div[1]/input', 'Boateka1$2023')\n",
    "# click on log in \n",
    "click_item('//*[@id=\"content-body\"]/div/div/form/div[5]/div[1]/button')\n",
    "time.sleep(1)\n",
    "for href in tqdm(href_list):\n",
    "    driver.get(href)\n",
    "    dict_obj={}\n",
    "    column_header=[]\n",
    "    column_info=[]\n",
    "    columns=driver.find_elements(\"xpath\", \"/html/body/div[1]/div/div/div[2]/div[2]/div[2]/table/tbody/tr[*]/td[1]\")\n",
    "    for header in columns:\n",
    "        column_header.append(header.text)\n",
    "    info=driver.find_elements(\"xpath\", \"/html/body/div[1]/div/div/div[2]/div[2]/div[2]/table/tbody/tr[*]/td[2]\")\n",
    "    for information in info:\n",
    "        column_info.append(information.text)\n",
    "    for index, label in enumerate(column_header):\n",
    "        dict_obj[label]=column_info[index]\n",
    "    click_item('/html/body/div[1]/div/div/div[2]/form/div[*]/div/button')\n",
    "    price_header=[]\n",
    "    for element in range(2,5):\n",
    "        price_header.append((driver.find_element(\"xpath\", \"/html/body/div[1]/div/div/div[2]/div[4]/div[1]/div/div\"+str([element]))).text)\n",
    "    click_item('/html/body/div[1]/div/div/div[2]/form/div/div[2]/div/input')\n",
    "    time.sleep(1)                                 \n",
    "    price_all=[]\n",
    "    for year in range(5,14):\n",
    "        monthly_price=[]\n",
    "        time.sleep(1)\n",
    "        try:\n",
    "            click_item('/html/body/div[1]/div/div/div[2]/div[8]/div/div/div[2]/form/div/div[2]/select/option'+str([year]))\n",
    "            for  month in range(1,12,2):\n",
    "                price_type_info=[]\n",
    "                try:\n",
    "                    click_item('/html/body/div[1]/div/div/div[2]/div[8]/div/div/div[2]/form/div/div[1]/select/option'+str([month]))\n",
    "                    click_item('/html/body/div[1]/div/div/div[2]/div[8]/div/div/div[3]/button[1]')\n",
    "                    time.sleep(2)\n",
    "                    for type_price in range(2,5):\n",
    "                        try:\n",
    "                            price_type_info.append((driver.find_element(\"xpath\", \"/html/body/div[1]/div/div/div[2]/div[4]/div[5]/div\"+str([type_price]))).text)\n",
    "                        except:\n",
    "                            price_type_info.append((driver.find_element(\"xpath\", \"/html/body/div[1]/div/div/div[2]/div[4]/div[7]/div\"+str([type_price]))).text)                       \n",
    "                    monthly_price.append(price_type_info)\n",
    "                    click_item('/html/body/div[1]/div/div/div[2]/form/div/div[2]/div/input')\n",
    "                except:\n",
    "                    continue\n",
    "            price_all.append(monthly_price)\n",
    "        except:\n",
    "            continue\n",
    "    dict_obj[\"Price column head\"]=price_header\n",
    "    dict_obj['Price']=price_all\n",
    "    print(dict_obj)\n",
    "    main_info.append(dict_obj)"
   ]
  },
  {
   "cell_type": "code",
   "execution_count": 449,
   "metadata": {},
   "outputs": [],
   "source": [
    "main_info=main_info[:1246]"
   ]
  },
  {
   "cell_type": "code",
   "execution_count": 443,
   "metadata": {},
   "outputs": [
    {
     "name": "stderr",
     "output_type": "stream",
     "text": [
      "<>:1: SyntaxWarning: invalid escape sequence '\\P'\n",
      "<>:1: SyntaxWarning: invalid escape sequence '\\P'\n",
      "C:\\Users\\pkulkarni\\AppData\\Local\\Temp\\ipykernel_37476\\2304629544.py:1: SyntaxWarning: invalid escape sequence '\\P'\n",
      "  with open(path+'\\Price_ID_total_info.pkl', 'wb') as f:\n"
     ]
    }
   ],
   "source": [
    "with open(path+'\\Price_ID_total_info.pkl', 'wb') as f:\n",
    "        pickle.dump(main_info, f)"
   ]
  },
  {
   "cell_type": "code",
   "execution_count": null,
   "metadata": {},
   "outputs": [],
   "source": []
  },
  {
   "cell_type": "code",
   "execution_count": null,
   "metadata": {},
   "outputs": [],
   "source": []
  }
 ],
 "metadata": {
  "kernelspec": {
   "display_name": "Python 3",
   "language": "python",
   "name": "python3"
  },
  "language_info": {
   "codemirror_mode": {
    "name": "ipython",
    "version": 3
   },
   "file_extension": ".py",
   "mimetype": "text/x-python",
   "name": "python",
   "nbconvert_exporter": "python",
   "pygments_lexer": "ipython3",
   "version": "3.12.0"
  }
 },
 "nbformat": 4,
 "nbformat_minor": 2
}
